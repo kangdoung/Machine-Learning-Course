{
  "nbformat": 4,
  "nbformat_minor": 0,
  "metadata": {
    "colab": {
      "name": "Missing_value.ipynb",
      "provenance": [],
      "authorship_tag": "ABX9TyMEHfxvEOKpzuefXcljm6RA",
      "include_colab_link": true
    },
    "kernelspec": {
      "name": "python3",
      "display_name": "Python 3"
    }
  },
  "cells": [
    {
      "cell_type": "markdown",
      "metadata": {
        "id": "view-in-github",
        "colab_type": "text"
      },
      "source": [
        "<a href=\"https://colab.research.google.com/github/kangdoung/Machine-Learning-Course/blob/master/Missing_value.ipynb\" target=\"_parent\"><img src=\"https://colab.research.google.com/assets/colab-badge.svg\" alt=\"Open In Colab\"/></a>"
      ]
    },
    {
      "cell_type": "markdown",
      "metadata": {
        "id": "livA84520FTj",
        "colab_type": "text"
      },
      "source": [
        "# Dealing with missing value\n",
        "\n",
        "\n",
        "Chúng ta có 3 cách xử lí vấn đề này"
      ]
    },
    {
      "cell_type": "markdown",
      "metadata": {
        "id": "q0HkBKhc0UM1",
        "colab_type": "text"
      },
      "source": [
        "1. A simple Option: Loại bỏ cột có missing value\n",
        "2. A better Option: Imputation\n",
        "\n",
        "  Chúng ta có thể điền giá trị trung bình vào cột còn thiếu. Vd giá trị trung bình của cột.\n",
        "3. An Extension To Imputation¶"
      ]
    },
    {
      "cell_type": "markdown",
      "metadata": {
        "id": "sGxRmRWf1p0w",
        "colab_type": "text"
      },
      "source": [
        "## Define Function to Measure Quality of Each Approach"
      ]
    },
    {
      "cell_type": "markdown",
      "metadata": {
        "id": "NO9bfRst1HIn",
        "colab_type": "text"
      },
      "source": [
        "Chúng ta sẽ định nghĩa hàm score_dataset() để so sánh sự khác nhau của các cách tiếp cận missing value. Hàm này sẽ trả về giá trị MAE của model Random Forest Regressor."
      ]
    },
    {
      "cell_type": "code",
      "metadata": {
        "id": "NDi_oY2t3f2z",
        "colab_type": "code",
        "colab": {}
      },
      "source": [
        "from sklearn.ensemble import RandomForestRegressor\n",
        "from sklearn.metrics import mean_absolute_error\n",
        "\n",
        "# Function for comparing different approaches\n",
        "def score_dataset(X_train, X_valid, y_train, y_valid):\n",
        "    model = RandomForestRegressor(n_estimators=100, random_state=0)\n",
        "    model.fit(X_train, y_train)\n",
        "    preds = model.predict(X_valid)\n",
        "    return mean_absolute_error(y_valid, preds)"
      ],
      "execution_count": 0,
      "outputs": []
    },
    {
      "cell_type": "markdown",
      "metadata": {
        "id": "Busdc8Q918ga",
        "colab_type": "text"
      },
      "source": [
        "### Aproach 1"
      ]
    },
    {
      "cell_type": "code",
      "metadata": {
        "id": "vf-MoxJ8yZXc",
        "colab_type": "code",
        "colab": {}
      },
      "source": [
        "# Get names of columns with missing values\n",
        "cols_with_missing = [col for col in X_train.columns\n",
        "                     if X_train[col].isnull().any()]\n",
        "\n",
        "# Drop columns in training and validation data\n",
        "reduced_X_train = X_train.drop(cols_with_missing, axis=1)\n",
        "reduced_X_valid = X_valid.drop(cols_with_missing, axis=1)\n",
        "\n",
        "print(\"MAE from Approach 1 (Drop columns with missing values):\")\n",
        "print(score_dataset(reduced_X_train, reduced_X_valid, y_train, y_valid))\n"
      ],
      "execution_count": 0,
      "outputs": []
    },
    {
      "cell_type": "markdown",
      "metadata": {
        "id": "9l7pecPd2BIs",
        "colab_type": "text"
      },
      "source": [
        "### Aproach 2"
      ]
    },
    {
      "cell_type": "code",
      "metadata": {
        "id": "AtGKcAeW2DfL",
        "colab_type": "code",
        "colab": {}
      },
      "source": [
        "from sklearn.impute import SimpleImputer\n",
        "\n",
        "# Imputation\n",
        "my_imputer = SimpleImputer()\n",
        "imputed_X_train = pd.DataFrame(my_imputer.fit_transform(X_train))\n",
        "imputed_X_valid = pd.DataFrame(my_imputer.transform(X_valid))\n",
        "\n",
        "# Imputation removed column names; put them back\n",
        "imputed_X_train.columns = X_train.columns\n",
        "imputed_X_valid.columns = X_valid.columns\n",
        "\n",
        "print(\"MAE from Approach 2 (Imputation):\")\n",
        "print(score_dataset(imputed_X_train, imputed_X_valid, y_train, y_valid))"
      ],
      "execution_count": 0,
      "outputs": []
    },
    {
      "cell_type": "markdown",
      "metadata": {
        "id": "B0XQcKpt2PHf",
        "colab_type": "text"
      },
      "source": [
        "### Aproach 3\n"
      ]
    },
    {
      "cell_type": "code",
      "metadata": {
        "id": "MRRkZjIO2Qkd",
        "colab_type": "code",
        "colab": {}
      },
      "source": [
        "X_train_plus = X_train.copy()\n",
        "X_valid_plus = X_valid.copy()\n",
        "\n",
        "# Make new columns indicating what will be imputed\n",
        "for col in cols_with_missing:\n",
        "    X_train_plus[col + '_was_missing'] = X_train_plus[col].isnull()\n",
        "    X_valid_plus[col + '_was_missing'] = X_valid_plus[col].isnull()\n",
        "\n",
        "# Imputation\n",
        "my_imputer = SimpleImputer()\n",
        "imputed_X_train_plus = pd.DataFrame(my_imputer.fit_transform(X_train_plus))\n",
        "imputed_X_valid_plus = pd.DataFrame(my_imputer.transform(X_valid_plus))\n",
        "\n",
        "# Imputation removed column names; put them back\n",
        "imputed_X_train_plus.columns = X_train_plus.columns\n",
        "imputed_X_valid_plus.columns = X_valid_plus.columns\n",
        "\n",
        "print(\"MAE from Approach 3 (An Extension to Imputation):\")\n",
        "print(score_dataset(imputed_X_train_plus, imputed_X_valid_plus, y_train, y_valid))"
      ],
      "execution_count": 0,
      "outputs": []
    },
    {
      "cell_type": "code",
      "metadata": {
        "id": "rLb2i6L02bfp",
        "colab_type": "code",
        "colab": {}
      },
      "source": [
        "# Shape of training data (num_rows, num_columns)\n",
        "print(X_train.shape)\n",
        "\n",
        "# Number of missing values in each column of training data\n",
        "missing_val_count_by_column = (X_train.isnull().sum())\n",
        "print(missing_val_count_by_column[missing_val_count_by_column > 0])"
      ],
      "execution_count": 0,
      "outputs": []
    }
  ]
}